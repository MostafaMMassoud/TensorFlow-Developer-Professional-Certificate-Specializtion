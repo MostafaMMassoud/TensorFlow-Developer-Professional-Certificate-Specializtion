{
  "nbformat": 4,
  "nbformat_minor": 0,
  "metadata": {
    "accelerator": "GPU",
    "colab": {
      "name": "NLP_Week4_Exercise_Shakespeare_Question.ipynb",
      "provenance": [],
      "toc_visible": true
    },
    "kernelspec": {
      "display_name": "Python 3",
      "name": "python3"
    }
  },
  "cells": [
    {
      "cell_type": "code",
      "metadata": {
        "id": "zX4Kg8DUTKWO"
      },
      "source": [
        "#@title Licensed under the Apache License, Version 2.0 (the \"License\");\n",
        "# you may not use this file except in compliance with the License.\n",
        "# You may obtain a copy of the License at\n",
        "#\n",
        "# https://www.apache.org/licenses/LICENSE-2.0\n",
        "#\n",
        "# Unless required by applicable law or agreed to in writing, software\n",
        "# distributed under the License is distributed on an \"AS IS\" BASIS,\n",
        "# WITHOUT WARRANTIES OR CONDITIONS OF ANY KIND, either express or implied.\n",
        "# See the License for the specific language governing permissions and\n",
        "# limitations under the License."
      ],
      "execution_count": null,
      "outputs": []
    },
    {
      "cell_type": "code",
      "metadata": {
        "id": "BOwsuGQQY9OL"
      },
      "source": [
        "from tensorflow.keras.preprocessing.sequence import pad_sequences\n",
        "from tensorflow.keras.layers import Embedding, LSTM, Dense, Dropout, Bidirectional\n",
        "from tensorflow.keras.preprocessing.text import Tokenizer\n",
        "from tensorflow.keras.models import Sequential\n",
        "from tensorflow.keras.optimizers import Adam\n",
        "### YOUR CODE HERE\n",
        "from tensorflow.keras import regularizers # Figure out how to import regularizers\n",
        "###\n",
        "import tensorflow.keras.utils as ku \n",
        "import numpy as np "
      ],
      "execution_count": 1,
      "outputs": []
    },
    {
      "cell_type": "code",
      "metadata": {
        "colab": {
          "base_uri": "https://localhost:8080/"
        },
        "id": "PRnDnCW-Z7qv",
        "outputId": "2901feaa-5554-45f1-9aa7-b0adc4894ff3"
      },
      "source": [
        "\n",
        "!wget --no-check-certificate \\\n",
        "    https://storage.googleapis.com/laurencemoroney-blog.appspot.com/sonnets.txt \\\n",
        "    -O /tmp/sonnets.txt\n",
        "\n",
        "data = open('/tmp/sonnets.txt').read()\n",
        "\n",
        "corpus = data.lower().split(\"\\n\")\n",
        "\n",
        "tokenizer = Tokenizer()\n",
        "tokenizer.fit_on_texts(corpus)\n",
        "total_words = len(tokenizer.word_index) + 1\n",
        "\n",
        "# create input sequences using list of tokens\n",
        "input_sequences = []\n",
        "for line in corpus:\n",
        "\ttoken_list = tokenizer.texts_to_sequences([line])[0]\n",
        "\tfor i in range(1, len(token_list)):\n",
        "\t\tn_gram_sequence = token_list[:i+1]\n",
        "\t\tinput_sequences.append(n_gram_sequence)\n",
        "\n",
        "\n",
        "# pad sequences \n",
        "max_sequence_len = max([len(x) for x in input_sequences])\n",
        "input_sequences = np.array(pad_sequences(input_sequences, maxlen=max_sequence_len, padding='pre'))\n",
        "\n",
        "# create predictors and label\n",
        "predictors, label = input_sequences[:,:-1],input_sequences[:,-1]\n",
        "\n",
        "label = ku.to_categorical(label, num_classes=total_words)"
      ],
      "execution_count": 2,
      "outputs": [
        {
          "output_type": "stream",
          "text": [
            "--2021-08-03 09:11:12--  https://storage.googleapis.com/laurencemoroney-blog.appspot.com/sonnets.txt\n",
            "Resolving storage.googleapis.com (storage.googleapis.com)... 64.233.189.128, 108.177.97.128, 142.250.157.128, ...\n",
            "Connecting to storage.googleapis.com (storage.googleapis.com)|64.233.189.128|:443... connected.\n",
            "HTTP request sent, awaiting response... 200 OK\n",
            "Length: 93578 (91K) [text/plain]\n",
            "Saving to: ‘/tmp/sonnets.txt’\n",
            "\n",
            "/tmp/sonnets.txt    100%[===================>]  91.38K  --.-KB/s    in 0.001s  \n",
            "\n",
            "2021-08-03 09:11:13 (76.3 MB/s) - ‘/tmp/sonnets.txt’ saved [93578/93578]\n",
            "\n"
          ],
          "name": "stdout"
        }
      ]
    },
    {
      "cell_type": "code",
      "metadata": {
        "colab": {
          "base_uri": "https://localhost:8080/"
        },
        "id": "w9vH8Y59ajYL",
        "outputId": "79b097ae-b039-4a6d-f093-88ad78742440"
      },
      "source": [
        "model = Sequential()\n",
        "model.add(Embedding(total_words, 100, input_length=max_sequence_len-1))\n",
        "model.add(Bidirectional(LSTM(64,return_sequences=True)))\n",
        "model.add(Dropout(0.2))\n",
        "model.add(LSTM(32))\n",
        "model.add(Dense(total_words/2, activation='relu', kernel_regularizer=regularizers.l2(0.01)))\n",
        "model.add(Dense(total_words, activation='softmax'))\n",
        "# Pick an optimizer\n",
        "model.compile(loss='categorical_crossentropy', optimizer='adam', metrics=['accuracy'])\n",
        "print(model.summary())\n"
      ],
      "execution_count": 3,
      "outputs": [
        {
          "output_type": "stream",
          "text": [
            "Model: \"sequential\"\n",
            "_________________________________________________________________\n",
            "Layer (type)                 Output Shape              Param #   \n",
            "=================================================================\n",
            "embedding (Embedding)        (None, 10, 100)           321100    \n",
            "_________________________________________________________________\n",
            "bidirectional (Bidirectional (None, 10, 128)           84480     \n",
            "_________________________________________________________________\n",
            "dropout (Dropout)            (None, 10, 128)           0         \n",
            "_________________________________________________________________\n",
            "lstm_1 (LSTM)                (None, 32)                20608     \n",
            "_________________________________________________________________\n",
            "dense (Dense)                (None, 1605)              52965     \n",
            "_________________________________________________________________\n",
            "dense_1 (Dense)              (None, 3211)              5156866   \n",
            "=================================================================\n",
            "Total params: 5,636,019\n",
            "Trainable params: 5,636,019\n",
            "Non-trainable params: 0\n",
            "_________________________________________________________________\n",
            "None\n"
          ],
          "name": "stdout"
        }
      ]
    },
    {
      "cell_type": "code",
      "metadata": {
        "colab": {
          "base_uri": "https://localhost:8080/"
        },
        "id": "AIg2f1HBxqof",
        "outputId": "2474c7da-cba6-4f06-f287-311825f4e8c6"
      },
      "source": [
        "%%time\n",
        "history = model.fit(predictors, label, epochs=100, verbose=1)"
      ],
      "execution_count": 4,
      "outputs": [
        {
          "output_type": "stream",
          "text": [
            "Epoch 1/100\n",
            "484/484 [==============================] - 22s 24ms/step - loss: 6.8715 - accuracy: 0.0222\n",
            "Epoch 2/100\n",
            "484/484 [==============================] - 12s 24ms/step - loss: 6.5000 - accuracy: 0.0207\n",
            "Epoch 3/100\n",
            "484/484 [==============================] - 12s 24ms/step - loss: 6.4002 - accuracy: 0.0252\n",
            "Epoch 4/100\n",
            "484/484 [==============================] - 12s 24ms/step - loss: 6.2794 - accuracy: 0.0268\n",
            "Epoch 5/100\n",
            "484/484 [==============================] - 12s 24ms/step - loss: 6.1957 - accuracy: 0.0341\n",
            "Epoch 6/100\n",
            "484/484 [==============================] - 12s 24ms/step - loss: 6.1208 - accuracy: 0.0376\n",
            "Epoch 7/100\n",
            "484/484 [==============================] - 11s 23ms/step - loss: 6.0489 - accuracy: 0.0396\n",
            "Epoch 8/100\n",
            "484/484 [==============================] - 11s 23ms/step - loss: 5.9830 - accuracy: 0.0435\n",
            "Epoch 9/100\n",
            "484/484 [==============================] - 11s 23ms/step - loss: 5.9102 - accuracy: 0.0458\n",
            "Epoch 10/100\n",
            "484/484 [==============================] - 11s 23ms/step - loss: 5.8348 - accuracy: 0.0477\n",
            "Epoch 11/100\n",
            "484/484 [==============================] - 11s 23ms/step - loss: 5.7474 - accuracy: 0.0537\n",
            "Epoch 12/100\n",
            "484/484 [==============================] - 11s 24ms/step - loss: 5.6637 - accuracy: 0.0569\n",
            "Epoch 13/100\n",
            "484/484 [==============================] - 12s 25ms/step - loss: 5.5878 - accuracy: 0.0601\n",
            "Epoch 14/100\n",
            "484/484 [==============================] - 11s 24ms/step - loss: 5.5104 - accuracy: 0.0653\n",
            "Epoch 15/100\n",
            "484/484 [==============================] - 11s 23ms/step - loss: 5.4363 - accuracy: 0.0698\n",
            "Epoch 16/100\n",
            "484/484 [==============================] - 11s 23ms/step - loss: 5.3652 - accuracy: 0.0744\n",
            "Epoch 17/100\n",
            "484/484 [==============================] - 11s 23ms/step - loss: 5.2997 - accuracy: 0.0788\n",
            "Epoch 18/100\n",
            "484/484 [==============================] - 11s 23ms/step - loss: 5.2314 - accuracy: 0.0830\n",
            "Epoch 19/100\n",
            "484/484 [==============================] - 11s 23ms/step - loss: 5.1566 - accuracy: 0.0898\n",
            "Epoch 20/100\n",
            "484/484 [==============================] - 11s 23ms/step - loss: 5.0965 - accuracy: 0.0939\n",
            "Epoch 21/100\n",
            "484/484 [==============================] - 11s 23ms/step - loss: 5.0203 - accuracy: 0.0979\n",
            "Epoch 22/100\n",
            "484/484 [==============================] - 11s 23ms/step - loss: 4.9562 - accuracy: 0.1032\n",
            "Epoch 23/100\n",
            "484/484 [==============================] - 11s 23ms/step - loss: 4.8903 - accuracy: 0.1105\n",
            "Epoch 24/100\n",
            "484/484 [==============================] - 11s 23ms/step - loss: 4.8219 - accuracy: 0.1150\n",
            "Epoch 25/100\n",
            "484/484 [==============================] - 11s 23ms/step - loss: 4.7565 - accuracy: 0.1198\n",
            "Epoch 26/100\n",
            "484/484 [==============================] - 11s 23ms/step - loss: 4.6948 - accuracy: 0.1269\n",
            "Epoch 27/100\n",
            "484/484 [==============================] - 11s 23ms/step - loss: 4.6278 - accuracy: 0.1333\n",
            "Epoch 28/100\n",
            "484/484 [==============================] - 11s 23ms/step - loss: 4.5659 - accuracy: 0.1385\n",
            "Epoch 29/100\n",
            "484/484 [==============================] - 11s 23ms/step - loss: 4.5012 - accuracy: 0.1431\n",
            "Epoch 30/100\n",
            "484/484 [==============================] - 11s 23ms/step - loss: 4.4364 - accuracy: 0.1512\n",
            "Epoch 31/100\n",
            "484/484 [==============================] - 11s 23ms/step - loss: 4.3677 - accuracy: 0.1574\n",
            "Epoch 32/100\n",
            "484/484 [==============================] - 11s 23ms/step - loss: 4.3083 - accuracy: 0.1657\n",
            "Epoch 33/100\n",
            "484/484 [==============================] - 11s 23ms/step - loss: 4.2414 - accuracy: 0.1719\n",
            "Epoch 34/100\n",
            "484/484 [==============================] - 11s 23ms/step - loss: 4.1823 - accuracy: 0.1784\n",
            "Epoch 35/100\n",
            "484/484 [==============================] - 11s 23ms/step - loss: 4.1174 - accuracy: 0.1852\n",
            "Epoch 36/100\n",
            "484/484 [==============================] - 11s 23ms/step - loss: 4.0587 - accuracy: 0.1955\n",
            "Epoch 37/100\n",
            "484/484 [==============================] - 11s 23ms/step - loss: 3.9990 - accuracy: 0.1984\n",
            "Epoch 38/100\n",
            "484/484 [==============================] - 11s 23ms/step - loss: 3.9385 - accuracy: 0.2116\n",
            "Epoch 39/100\n",
            "484/484 [==============================] - 11s 23ms/step - loss: 3.8800 - accuracy: 0.2217\n",
            "Epoch 40/100\n",
            "484/484 [==============================] - 11s 23ms/step - loss: 3.8212 - accuracy: 0.2332\n",
            "Epoch 41/100\n",
            "484/484 [==============================] - 11s 24ms/step - loss: 3.7787 - accuracy: 0.2389\n",
            "Epoch 42/100\n",
            "484/484 [==============================] - 11s 23ms/step - loss: 3.7167 - accuracy: 0.2563\n",
            "Epoch 43/100\n",
            "484/484 [==============================] - 11s 23ms/step - loss: 3.6670 - accuracy: 0.2644\n",
            "Epoch 44/100\n",
            "484/484 [==============================] - 11s 24ms/step - loss: 3.6105 - accuracy: 0.2771\n",
            "Epoch 45/100\n",
            "484/484 [==============================] - 11s 23ms/step - loss: 3.5654 - accuracy: 0.2831\n",
            "Epoch 46/100\n",
            "484/484 [==============================] - 11s 23ms/step - loss: 3.5237 - accuracy: 0.2879\n",
            "Epoch 47/100\n",
            "484/484 [==============================] - 11s 23ms/step - loss: 3.4695 - accuracy: 0.3079\n",
            "Epoch 48/100\n",
            "484/484 [==============================] - 11s 23ms/step - loss: 3.4316 - accuracy: 0.3063\n",
            "Epoch 49/100\n",
            "484/484 [==============================] - 11s 23ms/step - loss: 3.3975 - accuracy: 0.3199\n",
            "Epoch 50/100\n",
            "484/484 [==============================] - 11s 23ms/step - loss: 3.3490 - accuracy: 0.3260\n",
            "Epoch 51/100\n",
            "484/484 [==============================] - 11s 23ms/step - loss: 3.3067 - accuracy: 0.3356\n",
            "Epoch 52/100\n",
            "484/484 [==============================] - 11s 23ms/step - loss: 3.2717 - accuracy: 0.3452\n",
            "Epoch 53/100\n",
            "484/484 [==============================] - 11s 23ms/step - loss: 3.2210 - accuracy: 0.3558\n",
            "Epoch 54/100\n",
            "484/484 [==============================] - 11s 23ms/step - loss: 3.1875 - accuracy: 0.3584\n",
            "Epoch 55/100\n",
            "484/484 [==============================] - 12s 24ms/step - loss: 3.1369 - accuracy: 0.3700\n",
            "Epoch 56/100\n",
            "484/484 [==============================] - 11s 24ms/step - loss: 3.1138 - accuracy: 0.3787\n",
            "Epoch 57/100\n",
            "484/484 [==============================] - 12s 24ms/step - loss: 3.0695 - accuracy: 0.3846\n",
            "Epoch 58/100\n",
            "484/484 [==============================] - 12s 24ms/step - loss: 3.0330 - accuracy: 0.3953\n",
            "Epoch 59/100\n",
            "484/484 [==============================] - 12s 24ms/step - loss: 3.0069 - accuracy: 0.3986\n",
            "Epoch 60/100\n",
            "484/484 [==============================] - 12s 24ms/step - loss: 2.9732 - accuracy: 0.4053\n",
            "Epoch 61/100\n",
            "484/484 [==============================] - 11s 23ms/step - loss: 2.9325 - accuracy: 0.4113\n",
            "Epoch 62/100\n",
            "484/484 [==============================] - 11s 23ms/step - loss: 2.9014 - accuracy: 0.4208\n",
            "Epoch 63/100\n",
            "484/484 [==============================] - 11s 23ms/step - loss: 2.8599 - accuracy: 0.4301\n",
            "Epoch 64/100\n",
            "484/484 [==============================] - 11s 23ms/step - loss: 2.8243 - accuracy: 0.4350\n",
            "Epoch 65/100\n",
            "484/484 [==============================] - 11s 23ms/step - loss: 2.7935 - accuracy: 0.4405\n",
            "Epoch 66/100\n",
            "484/484 [==============================] - 11s 23ms/step - loss: 2.7778 - accuracy: 0.4417\n",
            "Epoch 67/100\n",
            "484/484 [==============================] - 11s 24ms/step - loss: 2.7229 - accuracy: 0.4646\n",
            "Epoch 68/100\n",
            "484/484 [==============================] - 11s 23ms/step - loss: 2.7142 - accuracy: 0.4613\n",
            "Epoch 69/100\n",
            "484/484 [==============================] - 11s 23ms/step - loss: 2.6783 - accuracy: 0.4723\n",
            "Epoch 70/100\n",
            "484/484 [==============================] - 11s 24ms/step - loss: 2.6577 - accuracy: 0.4724\n",
            "Epoch 71/100\n",
            "484/484 [==============================] - 11s 24ms/step - loss: 2.6263 - accuracy: 0.4759\n",
            "Epoch 72/100\n",
            "484/484 [==============================] - 11s 24ms/step - loss: 2.6041 - accuracy: 0.4832\n",
            "Epoch 73/100\n",
            "484/484 [==============================] - 11s 24ms/step - loss: 2.5659 - accuracy: 0.4902\n",
            "Epoch 74/100\n",
            "484/484 [==============================] - 11s 23ms/step - loss: 2.5490 - accuracy: 0.4972\n",
            "Epoch 75/100\n",
            "484/484 [==============================] - 11s 23ms/step - loss: 2.5256 - accuracy: 0.5023\n",
            "Epoch 76/100\n",
            "484/484 [==============================] - 11s 24ms/step - loss: 2.4997 - accuracy: 0.5074\n",
            "Epoch 77/100\n",
            "484/484 [==============================] - 11s 24ms/step - loss: 2.4608 - accuracy: 0.5141\n",
            "Epoch 78/100\n",
            "484/484 [==============================] - 11s 24ms/step - loss: 2.4407 - accuracy: 0.5168\n",
            "Epoch 79/100\n",
            "484/484 [==============================] - 11s 24ms/step - loss: 2.4259 - accuracy: 0.5219\n",
            "Epoch 80/100\n",
            "484/484 [==============================] - 11s 23ms/step - loss: 2.3960 - accuracy: 0.5305\n",
            "Epoch 81/100\n",
            "484/484 [==============================] - 12s 24ms/step - loss: 2.3744 - accuracy: 0.5344\n",
            "Epoch 82/100\n",
            "484/484 [==============================] - 11s 23ms/step - loss: 2.3442 - accuracy: 0.5409\n",
            "Epoch 83/100\n",
            "484/484 [==============================] - 11s 24ms/step - loss: 2.3256 - accuracy: 0.5473\n",
            "Epoch 84/100\n",
            "484/484 [==============================] - 11s 23ms/step - loss: 2.3029 - accuracy: 0.5501\n",
            "Epoch 85/100\n",
            "484/484 [==============================] - 11s 24ms/step - loss: 2.2745 - accuracy: 0.5552\n",
            "Epoch 86/100\n",
            "484/484 [==============================] - 11s 24ms/step - loss: 2.2611 - accuracy: 0.5618\n",
            "Epoch 87/100\n",
            "484/484 [==============================] - 11s 24ms/step - loss: 2.2393 - accuracy: 0.5682\n",
            "Epoch 88/100\n",
            "484/484 [==============================] - 11s 24ms/step - loss: 2.2230 - accuracy: 0.5699\n",
            "Epoch 89/100\n",
            "484/484 [==============================] - 11s 24ms/step - loss: 2.2060 - accuracy: 0.5715\n",
            "Epoch 90/100\n",
            "484/484 [==============================] - 11s 24ms/step - loss: 2.1762 - accuracy: 0.5790\n",
            "Epoch 91/100\n",
            "484/484 [==============================] - 11s 24ms/step - loss: 2.1615 - accuracy: 0.5861\n",
            "Epoch 92/100\n",
            "484/484 [==============================] - 11s 23ms/step - loss: 2.1542 - accuracy: 0.5834\n",
            "Epoch 93/100\n",
            "484/484 [==============================] - 11s 24ms/step - loss: 2.1243 - accuracy: 0.5922\n",
            "Epoch 94/100\n",
            "484/484 [==============================] - 11s 24ms/step - loss: 2.0994 - accuracy: 0.5959\n",
            "Epoch 95/100\n",
            "484/484 [==============================] - 11s 24ms/step - loss: 2.0813 - accuracy: 0.6026\n",
            "Epoch 96/100\n",
            "484/484 [==============================] - 11s 24ms/step - loss: 2.0669 - accuracy: 0.6039\n",
            "Epoch 97/100\n",
            "484/484 [==============================] - 11s 23ms/step - loss: 2.0414 - accuracy: 0.6077\n",
            "Epoch 98/100\n",
            "484/484 [==============================] - 11s 23ms/step - loss: 2.0279 - accuracy: 0.6088\n",
            "Epoch 99/100\n",
            "484/484 [==============================] - 11s 23ms/step - loss: 2.0216 - accuracy: 0.6107\n",
            "Epoch 100/100\n",
            "484/484 [==============================] - 11s 24ms/step - loss: 2.0033 - accuracy: 0.6165\n",
            "CPU times: user 14min 35s, sys: 2min 8s, total: 16min 43s\n",
            "Wall time: 19min 8s\n"
          ],
          "name": "stdout"
        }
      ]
    },
    {
      "cell_type": "code",
      "metadata": {
        "colab": {
          "base_uri": "https://localhost:8080/",
          "height": 545
        },
        "id": "1fXTEO3GJ282",
        "outputId": "206f169c-16b7-4dce-8a18-95959524d66b"
      },
      "source": [
        "import matplotlib.pyplot as plt\n",
        "acc = history.history['accuracy']\n",
        "loss = history.history['loss']\n",
        "\n",
        "epochs = range(len(acc))\n",
        "\n",
        "plt.plot(epochs, acc, 'b', label='Training accuracy')\n",
        "plt.title('Training accuracy')\n",
        "\n",
        "plt.figure()\n",
        "\n",
        "plt.plot(epochs, loss, 'b', label='Training Loss')\n",
        "plt.title('Training loss')\n",
        "plt.legend()\n",
        "\n",
        "plt.show()"
      ],
      "execution_count": 5,
      "outputs": [
        {
          "output_type": "display_data",
          "data": {
            "image/png": "[encoded data removed]",
            "text/plain": [
              "<Figure size 432x288 with 1 Axes>"
            ]
          },
          "metadata": {
            "tags": [],
            "needs_background": "light"
          }
        },
        {
          "output_type": "display_data",
          "data": {
            "image/png": "[encoded data removed]",
            "text/plain": [
              "<Figure size 432x288 with 1 Axes>"
            ]
          },
          "metadata": {
            "tags": [],
            "needs_background": "light"
          }
        }
      ]
    },
    {
      "cell_type": "code",
      "metadata": {
        "colab": {
          "base_uri": "https://localhost:8080/"
        },
        "id": "6Vc6PHgxa6Hm",
        "outputId": "abca4004-aa50-4756-9911-d249f13202f0"
      },
      "source": [
        "seed_text = \"Help me Obi Wan Kenobi, you're my only hope\"\n",
        "next_words = 100\n",
        "  \n",
        "for _ in range(next_words):\n",
        "\ttoken_list = tokenizer.texts_to_sequences([seed_text])[0]\n",
        "\ttoken_list = pad_sequences([token_list], maxlen=max_sequence_len-1, padding='pre')\n",
        "\tpredicted = model.predict_classes(token_list, verbose=0)\n",
        "\toutput_word = \"\"\n",
        "\tfor word, index in tokenizer.word_index.items():\n",
        "\t\tif index == predicted:\n",
        "\t\t\toutput_word = word\n",
        "\t\t\tbreak\n",
        "\tseed_text += \" \" + output_word\n",
        "print(seed_text)"
      ],
      "execution_count": 6,
      "outputs": [
        {
          "output_type": "stream",
          "text": [
            "/usr/local/lib/python3.7/dist-packages/tensorflow/python/keras/engine/sequential.py:455: UserWarning: `model.predict_classes()` is deprecated and will be removed after 2021-01-01. Please use instead:* `np.argmax(model.predict(x), axis=-1)`,   if your model does multi-class classification   (e.g. if it uses a `softmax` last-layer activation).* `(model.predict(x) > 0.5).astype(\"int32\")`,   if your model does binary classification   (e.g. if it uses a `sigmoid` last-layer activation).\n",
            "  warnings.warn('`model.predict_classes()` is deprecated and '\n"
          ],
          "name": "stderr"
        },
        {
          "output_type": "stream",
          "text": [
            "Help me Obi Wan Kenobi, you're my only hope of effect alone sits grew it up new increase assured mine eye well is mine eye new eye were were beauty's hair 'will' and boundless lack and all myself which expense or weary wondrous son grow days had dyed dyed date pride part to this spacious canst leave thee bear afloat expire expire aspect crime aspect grew to pleasure razed done you doth prove me another near delight part days meet new turn'd treasure blood doth woman's son boast that that will not mine eye where it is appetite room sits grew to wrinkles possession ' knowing me well shows\n"
          ],
          "name": "stdout"
        }
      ]
    },
    {
      "cell_type": "code",
      "metadata": {
        "id": "oUXhJdi1SBBr"
      },
      "source": [
        ""
      ],
      "execution_count": null,
      "outputs": []
    }
  ]
}