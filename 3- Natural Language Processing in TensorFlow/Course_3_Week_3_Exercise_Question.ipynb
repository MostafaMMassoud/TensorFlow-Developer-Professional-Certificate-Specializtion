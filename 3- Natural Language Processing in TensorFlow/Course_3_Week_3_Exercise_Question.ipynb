{
  "nbformat": 4,
  "nbformat_minor": 0,
  "metadata": {
    "accelerator": "GPU",
    "colab": {
      "name": "NLP Course - Week 3 Exercise Question.ipynb",
      "provenance": [],
      "toc_visible": true
    },
    "kernelspec": {
      "display_name": "Python 3",
      "name": "python3"
    }
  },
  "cells": [
    {
      "cell_type": "code",
      "metadata": {
        "id": "zX4Kg8DUTKWO"
      },
      "source": [
        "#@title Licensed under the Apache License, Version 2.0 (the \"License\");\n",
        "# you may not use this file except in compliance with the License.\n",
        "# You may obtain a copy of the License at\n",
        "#\n",
        "# https://www.apache.org/licenses/LICENSE-2.0\n",
        "#\n",
        "# Unless required by applicable law or agreed to in writing, software\n",
        "# distributed under the License is distributed on an \"AS IS\" BASIS,\n",
        "# WITHOUT WARRANTIES OR CONDITIONS OF ANY KIND, either express or implied.\n",
        "# See the License for the specific language governing permissions and\n",
        "# limitations under the License."
      ],
      "execution_count": null,
      "outputs": []
    },
    {
      "cell_type": "code",
      "metadata": {
        "id": "hmA6EzkQJ5jt"
      },
      "source": [
        "import json\n",
        "import tensorflow as tf\n",
        "import csv\n",
        "import random\n",
        "import numpy as np\n",
        "import zipfile\n",
        "import matplotlib.pyplot as plt\n",
        "\n",
        "from tensorflow.keras.preprocessing.text import Tokenizer\n",
        "from tensorflow.keras.preprocessing.sequence import pad_sequences\n",
        "from tensorflow.keras.utils import to_categorical\n",
        "from tensorflow.keras import regularizers\n",
        "\n",
        "\n",
        "def plot_history(history):\n",
        "    fig,axes = plt.subplots(1,2,figsize=(12,4))\n",
        "    ax1,ax2 = axes.ravel()\n",
        "\n",
        "    acc = history.history['accuracy']\n",
        "    val_acc = history.history['val_accuracy']\n",
        "    loss = history.history['loss']\n",
        "    val_loss = history.history['val_loss']\n",
        "    epochs = range(len(acc))\n",
        "\n",
        "    ax1.plot(epochs,acc,'b',label='Training')\n",
        "    ax1.plot(epochs,val_acc,'r', label='Validation')\n",
        "    ax1.set_xlabel('Epochs')\n",
        "    #ax1.set_ylabel('Accuracy')\n",
        "    ax1.legend()\n",
        "    ax1.set_title('Accuracy')\n",
        "\n",
        "    ax2.plot(epochs,loss,'b',label='Training')\n",
        "    ax2.plot(epochs,val_loss,'r', label='Validation')\n",
        "    ax2.set_xlabel('Epochs')\n",
        "    #ax2.set_ylabel('Loss')\n",
        "    ax2.set_title('Loss')\n",
        "    ax2.legend()\n",
        "\n",
        "embedding_dim = 100\n",
        "max_length = 32\n",
        "trunc_type='post'\n",
        "padding_type='post'\n",
        "oov_tok = \"<OOV>\"\n",
        "training_size=160000 #Your dataset size here. Experiment using smaller values (i.e. 16000), but don't forget to train on at least 160000 to see the best effects\n",
        "test_portion=.1\n",
        "\n",
        "corpus = []\n"
      ],
      "execution_count": 17,
      "outputs": []
    },
    {
      "cell_type": "code",
      "metadata": {
        "colab": {
          "base_uri": "https://localhost:8080/"
        },
        "id": "bM0l_dORKqE0",
        "outputId": "70e10f64-8c28-49cc-e35e-66c23a2bacc6"
      },
      "source": [
        "# Note that I cleaned the Stanford dataset to remove LATIN1 encoding to make it easier for Python CSV reader\n",
        "# You can do that yourself with:\n",
        "# iconv -f LATIN1 -t UTF8 training.1600000.processed.noemoticon.csv -o training_cleaned.csv\n",
        "# I then hosted it on my site to make it easier to use in this notebook\n",
        "\n",
        "!wget --no-check-certificate \\\n",
        "    https://storage.googleapis.com/laurencemoroney-blog.appspot.com/training_cleaned.csv \\\n",
        "    -O /tmp/training_cleaned.csv\n",
        "\n",
        "num_sentences = 0\n",
        "\n",
        "with open(\"/tmp/training_cleaned.csv\") as csvfile:\n",
        "    reader = csv.reader(csvfile, delimiter=',')\n",
        "    for row in reader:\n",
        "      # Your Code here. Create list items where the first item is the text, found in row[5], and the second is the label. Note that the label is a '0' or a '4' in the text. When it's the former, make\n",
        "      # your label to be 0, otherwise 1. Keep a count of the number of sentences in num_sentences\n",
        "        text = row[5]\n",
        "        label = int(row[0] != '0')\n",
        "        # YOUR CODE HERE\n",
        "        num_sentences = num_sentences + 1\n",
        "        corpus.append([text,label])\n"
      ],
      "execution_count": 6,
      "outputs": [
        {
          "output_type": "stream",
          "text": [
            "--2021-08-03 11:40:52--  https://storage.googleapis.com/laurencemoroney-blog.appspot.com/training_cleaned.csv\n",
            "Resolving storage.googleapis.com (storage.googleapis.com)... 74.125.140.128, 108.177.15.128, 173.194.76.128, ...\n",
            "Connecting to storage.googleapis.com (storage.googleapis.com)|74.125.140.128|:443... connected.\n",
            "HTTP request sent, awaiting response... 200 OK\n",
            "Length: 238942690 (228M) [application/octet-stream]\n",
            "Saving to: ‘/tmp/training_cleaned.csv’\n",
            "\n",
            "/tmp/training_clean 100%[===================>] 227.87M  48.9MB/s    in 4.7s    \n",
            "\n",
            "2021-08-03 11:40:58 (48.9 MB/s) - ‘/tmp/training_cleaned.csv’ saved [238942690/238942690]\n",
            "\n"
          ],
          "name": "stdout"
        }
      ]
    },
    {
      "cell_type": "code",
      "metadata": {
        "colab": {
          "base_uri": "https://localhost:8080/"
        },
        "id": "3kxblBUjEUX-",
        "outputId": "f2466b73-97c2-46f4-c993-d9e1c2fb1c65"
      },
      "source": [
        "print(num_sentences)\n",
        "print(len(corpus))\n",
        "print(corpus[1])\n",
        "\n",
        "# Expected Output:\n",
        "# 1600000\n",
        "# 1600000\n",
        "# [\"is upset that he can't update his Facebook by texting it... and might cry as a result  School today also. Blah!\", 0]"
      ],
      "execution_count": 7,
      "outputs": [
        {
          "output_type": "stream",
          "text": [
            "1600000\n",
            "1600000\n",
            "[\"is upset that he can't update his Facebook by texting it... and might cry as a result  School today also. Blah!\", 0]\n"
          ],
          "name": "stdout"
        }
      ]
    },
    {
      "cell_type": "code",
      "metadata": {
        "id": "ohOGz24lsNAD"
      },
      "source": [
        "sentences=[]\n",
        "labels=[]\n",
        "random.shuffle(corpus)\n",
        "for x in range(training_size):\n",
        "    sentences.append(corpus[x][0])\n",
        "    labels.append(corpus[x][1])\n",
        "\n",
        "\n",
        "tokenizer = Tokenizer()\n",
        "tokenizer.fit_on_texts(sentences)\n",
        "\n",
        "word_index = tokenizer.word_index\n",
        "vocab_size=len(word_index)\n",
        "\n",
        "sequences = tokenizer.texts_to_sequences(sentences)\n",
        "padded = pad_sequences(sequences,maxlen=max_length, padding=padding_type, truncating= trunc_type)\n",
        "\n",
        "split = int(test_portion * training_size)\n",
        "\n",
        "test_sequences = padded[:split]\n",
        "training_sequences = padded[split:]\n",
        "                            \n",
        "test_labels = labels[:split]\n",
        "training_labels = labels[split:]\n",
        "\n",
        "test_sequences = np.array(test_sequences)\n",
        "training_sequences = np.array(training_sequences)\n",
        "\n",
        "test_labels = np.array(test_labels)\n",
        "training_labels = np.array(training_labels)"
      ],
      "execution_count": 8,
      "outputs": []
    },
    {
      "cell_type": "code",
      "metadata": {
        "colab": {
          "base_uri": "https://localhost:8080/"
        },
        "id": "gIrtRem1En3N",
        "outputId": "401d17ab-4633-42c6-c80e-c3242b7f0b4e"
      },
      "source": [
        "print(vocab_size)\n",
        "print(word_index['i'])\n",
        "# Expected Output\n",
        "# 138858\n",
        "# 1"
      ],
      "execution_count": 9,
      "outputs": [
        {
          "output_type": "stream",
          "text": [
            "138653\n",
            "1\n"
          ],
          "name": "stdout"
        }
      ]
    },
    {
      "cell_type": "code",
      "metadata": {
        "colab": {
          "base_uri": "https://localhost:8080/"
        },
        "id": "C1zdgJkusRh0",
        "outputId": "6e73448a-b0e4-4e57-be4f-0392a5a04f88"
      },
      "source": [
        "%%time\n",
        "# Getting glove text file\n",
        "\n",
        "!wget http://nlp.stanford.edu/data/glove.6B.zip -O /tmp/glove.6B.zip\n",
        "file_path = '../tmp/glove.6B.zip'\n",
        "with zipfile.ZipFile(file_path,'r') as f:\n",
        "  f.extract('glove.6B.100d.txt','/tmp/')\n",
        "\n",
        "embeddings_index = {};\n",
        "with open('/tmp/glove.6B.100d.txt') as f:\n",
        "    for line in f:\n",
        "        values = line.split();\n",
        "        word = values[0];\n",
        "        coefs = np.asarray(values[1:], dtype='float32');\n",
        "        embeddings_index[word] = coefs;\n",
        "\n",
        "embeddings_matrix = np.zeros((vocab_size+1, embedding_dim));\n",
        "for word, i in word_index.items():\n",
        "    embedding_vector = embeddings_index.get(word);\n",
        "    if embedding_vector is not None:\n",
        "        embeddings_matrix[i] = embedding_vector;"
      ],
      "execution_count": 10,
      "outputs": [
        {
          "output_type": "stream",
          "text": [
            "--2021-08-03 11:41:48--  http://nlp.stanford.edu/data/glove.6B.zip\n",
            "Resolving nlp.stanford.edu (nlp.stanford.edu)... 171.64.67.140\n",
            "Connecting to nlp.stanford.edu (nlp.stanford.edu)|171.64.67.140|:80... connected.\n",
            "HTTP request sent, awaiting response... 302 Found\n",
            "Location: https://nlp.stanford.edu/data/glove.6B.zip [following]\n",
            "--2021-08-03 11:41:48--  https://nlp.stanford.edu/data/glove.6B.zip\n",
            "Connecting to nlp.stanford.edu (nlp.stanford.edu)|171.64.67.140|:443... connected.\n",
            "HTTP request sent, awaiting response... 301 Moved Permanently\n",
            "Location: http://downloads.cs.stanford.edu/nlp/data/glove.6B.zip [following]\n",
            "--2021-08-03 11:41:49--  http://downloads.cs.stanford.edu/nlp/data/glove.6B.zip\n",
            "Resolving downloads.cs.stanford.edu (downloads.cs.stanford.edu)... 171.64.64.22\n",
            "Connecting to downloads.cs.stanford.edu (downloads.cs.stanford.edu)|171.64.64.22|:80... connected.\n",
            "HTTP request sent, awaiting response... 200 OK\n",
            "Length: 862182613 (822M) [application/zip]\n",
            "Saving to: ‘/tmp/glove.6B.zip’\n",
            "\n",
            "/tmp/glove.6B.zip   100%[===================>] 822.24M  5.33MB/s    in 2m 41s  \n",
            "\n",
            "2021-08-03 11:44:31 (5.10 MB/s) - ‘/tmp/glove.6B.zip’ saved [862182613/862182613]\n",
            "\n",
            "CPU times: user 15.8 s, sys: 2.01 s, total: 17.8 s\n",
            "Wall time: 2min 58s\n"
          ],
          "name": "stdout"
        }
      ]
    },
    {
      "cell_type": "code",
      "metadata": {
        "colab": {
          "base_uri": "https://localhost:8080/"
        },
        "id": "71NLk_lpFLNt",
        "outputId": "30b4da37-c12f-4270-927c-05ba7ed824ba"
      },
      "source": [
        "print(len(embeddings_matrix))\n",
        "# Expected Output\n",
        "# 138859"
      ],
      "execution_count": 11,
      "outputs": [
        {
          "output_type": "stream",
          "text": [
            "138654\n"
          ],
          "name": "stdout"
        }
      ]
    },
    {
      "cell_type": "code",
      "metadata": {
        "colab": {
          "base_uri": "https://localhost:8080/"
        },
        "id": "iKKvbuEBOGFz",
        "outputId": "bc8b3d25-19fb-4e7d-ed8a-c02805e21423"
      },
      "source": [
        "model = tf.keras.Sequential([\n",
        "    tf.keras.layers.Embedding(vocab_size+1, embedding_dim, input_length=max_length, weights=[embeddings_matrix], trainable=False),\n",
        "    tf.keras.layers.Bidirectional(tf.keras.layers.LSTM(units=128 , recurrent_dropout = 0.3 , dropout = 0.3,return_sequences = True)),\n",
        "    tf.keras.layers.Bidirectional(tf.keras.layers.GRU(units=32 , recurrent_dropout = 0.1 , dropout = 0.1)),\n",
        "    tf.keras.layers.Dense(1, activation='sigmoid')\n",
        "])\n",
        "model.compile(loss='binary_crossentropy',optimizer='adam',metrics=['accuracy'])\n",
        "model.summary()\n",
        "\n",
        "num_epochs = 20\n",
        "history = model.fit(training_sequences, training_labels, epochs=num_epochs,batch_size=128, validation_data=(test_sequences, test_labels), verbose=1)\n",
        "\n",
        "print(\"Training Complete\")\n"
      ],
      "execution_count": 13,
      "outputs": [
        {
          "output_type": "stream",
          "text": [
            "WARNING:tensorflow:Layer lstm_1 will not use cuDNN kernels since it doesn't meet the criteria. It will use a generic GPU kernel as fallback when running on GPU.\n",
            "WARNING:tensorflow:Layer lstm_1 will not use cuDNN kernels since it doesn't meet the criteria. It will use a generic GPU kernel as fallback when running on GPU.\n",
            "WARNING:tensorflow:Layer lstm_1 will not use cuDNN kernels since it doesn't meet the criteria. It will use a generic GPU kernel as fallback when running on GPU.\n",
            "WARNING:tensorflow:Layer gru_1 will not use cuDNN kernels since it doesn't meet the criteria. It will use a generic GPU kernel as fallback when running on GPU.\n",
            "WARNING:tensorflow:Layer gru_1 will not use cuDNN kernels since it doesn't meet the criteria. It will use a generic GPU kernel as fallback when running on GPU.\n",
            "WARNING:tensorflow:Layer gru_1 will not use cuDNN kernels since it doesn't meet the criteria. It will use a generic GPU kernel as fallback when running on GPU.\n",
            "Model: \"sequential_1\"\n",
            "_________________________________________________________________\n",
            "Layer (type)                 Output Shape              Param #   \n",
            "=================================================================\n",
            "embedding_1 (Embedding)      (None, 32, 100)           13865400  \n",
            "_________________________________________________________________\n",
            "bidirectional_2 (Bidirection (None, 32, 256)           234496    \n",
            "_________________________________________________________________\n",
            "bidirectional_3 (Bidirection (None, 64)                55680     \n",
            "_________________________________________________________________\n",
            "dense_1 (Dense)              (None, 1)                 65        \n",
            "=================================================================\n",
            "Total params: 14,155,641\n",
            "Trainable params: 290,241\n",
            "Non-trainable params: 13,865,400\n",
            "_________________________________________________________________\n",
            "Epoch 1/20\n",
            "1125/1125 [==============================] - 314s 274ms/step - loss: 0.5524 - accuracy: 0.7130 - val_loss: 0.5092 - val_accuracy: 0.7493\n",
            "Epoch 2/20\n",
            "1125/1125 [==============================] - 302s 268ms/step - loss: 0.4932 - accuracy: 0.7586 - val_loss: 0.4684 - val_accuracy: 0.7763\n",
            "Epoch 3/20\n",
            "1125/1125 [==============================] - 305s 272ms/step - loss: 0.4691 - accuracy: 0.7754 - val_loss: 0.4539 - val_accuracy: 0.7848\n",
            "Epoch 4/20\n",
            "1125/1125 [==============================] - 302s 268ms/step - loss: 0.4550 - accuracy: 0.7841 - val_loss: 0.4439 - val_accuracy: 0.7934\n",
            "Epoch 5/20\n",
            "1125/1125 [==============================] - 302s 269ms/step - loss: 0.4418 - accuracy: 0.7920 - val_loss: 0.4422 - val_accuracy: 0.7943\n",
            "Epoch 6/20\n",
            "1125/1125 [==============================] - 301s 267ms/step - loss: 0.4314 - accuracy: 0.7980 - val_loss: 0.4437 - val_accuracy: 0.7901\n",
            "Epoch 7/20\n",
            "1125/1125 [==============================] - 300s 267ms/step - loss: 0.4232 - accuracy: 0.8038 - val_loss: 0.4310 - val_accuracy: 0.7979\n",
            "Epoch 8/20\n",
            "1125/1125 [==============================] - 301s 268ms/step - loss: 0.4154 - accuracy: 0.8080 - val_loss: 0.4264 - val_accuracy: 0.8034\n",
            "Epoch 9/20\n",
            "1125/1125 [==============================] - 306s 272ms/step - loss: 0.4086 - accuracy: 0.8114 - val_loss: 0.4267 - val_accuracy: 0.8027\n",
            "Epoch 10/20\n",
            "1125/1125 [==============================] - 305s 271ms/step - loss: 0.4015 - accuracy: 0.8166 - val_loss: 0.4275 - val_accuracy: 0.8042\n",
            "Epoch 11/20\n",
            "1125/1125 [==============================] - 301s 267ms/step - loss: 0.3954 - accuracy: 0.8190 - val_loss: 0.4257 - val_accuracy: 0.8049\n",
            "Epoch 12/20\n",
            "1125/1125 [==============================] - 300s 267ms/step - loss: 0.3900 - accuracy: 0.8221 - val_loss: 0.4310 - val_accuracy: 0.8081\n",
            "Epoch 13/20\n",
            "1125/1125 [==============================] - 302s 268ms/step - loss: 0.3854 - accuracy: 0.8242 - val_loss: 0.4269 - val_accuracy: 0.8070\n",
            "Epoch 14/20\n",
            "1125/1125 [==============================] - 303s 269ms/step - loss: 0.3811 - accuracy: 0.8269 - val_loss: 0.4247 - val_accuracy: 0.8061\n",
            "Epoch 15/20\n",
            "1125/1125 [==============================] - 303s 270ms/step - loss: 0.3744 - accuracy: 0.8308 - val_loss: 0.4304 - val_accuracy: 0.8066\n",
            "Epoch 16/20\n",
            "1125/1125 [==============================] - 301s 268ms/step - loss: 0.3710 - accuracy: 0.8314 - val_loss: 0.4291 - val_accuracy: 0.8096\n",
            "Epoch 17/20\n",
            "1125/1125 [==============================] - 306s 272ms/step - loss: 0.3668 - accuracy: 0.8342 - val_loss: 0.4335 - val_accuracy: 0.8048\n",
            "Epoch 18/20\n",
            "1125/1125 [==============================] - 307s 273ms/step - loss: 0.3632 - accuracy: 0.8365 - val_loss: 0.4319 - val_accuracy: 0.8063\n",
            "Epoch 19/20\n",
            "1125/1125 [==============================] - 304s 270ms/step - loss: 0.3593 - accuracy: 0.8393 - val_loss: 0.4351 - val_accuracy: 0.8066\n",
            "Epoch 20/20\n",
            "1125/1125 [==============================] - 303s 269ms/step - loss: 0.3550 - accuracy: 0.8403 - val_loss: 0.4402 - val_accuracy: 0.8061\n",
            "Training Complete\n"
          ],
          "name": "stdout"
        }
      ]
    },
    {
      "cell_type": "code",
      "metadata": {
        "id": "tp1a664E0K9G",
        "outputId": "5df9b6c2-3bd5-4b45-d26b-e04b0cfa841a",
        "colab": {
          "base_uri": "https://localhost:8080/",
          "height": 295
        }
      },
      "source": [
        "plot_history(history)"
      ],
      "execution_count": 18,
      "outputs": [
        {
          "output_type": "display_data",
          "data": {
            "image/png": "[encoded data removed]",
            "text/plain": [
              "<Figure size 864x288 with 2 Axes>"
            ]
          },
          "metadata": {
            "tags": [],
            "needs_background": "light"
          }
        }
      ]
    }
  ]
}